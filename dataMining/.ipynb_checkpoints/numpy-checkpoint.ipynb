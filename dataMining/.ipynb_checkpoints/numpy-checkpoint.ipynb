{
 "cells": [
  {
   "cell_type": "code",
   "execution_count": 1,
   "metadata": {},
   "outputs": [
    {
     "data": {
      "text/plain": [
       "array([1, 2, 3, 4, 5])"
      ]
     },
     "execution_count": 1,
     "metadata": {},
     "output_type": "execute_result"
    }
   ],
   "source": [
    "import numpy as np\n",
    "list_to_array = np.array([1,2,3,4,5])\n",
    "list_to_array"
   ]
  },
  {
   "cell_type": "code",
   "execution_count": 3,
   "metadata": {},
   "outputs": [
    {
     "data": {
      "text/plain": [
       "numpy.ndarray"
      ]
     },
     "execution_count": 3,
     "metadata": {},
     "output_type": "execute_result"
    }
   ],
   "source": [
    "tuple_to_array = np.array((1,2,3,4,5))\n",
    "type(tuple_to_array)"
   ]
  },
  {
   "cell_type": "code",
   "execution_count": 4,
   "metadata": {},
   "outputs": [
    {
     "name": "stdout",
     "output_type": "stream",
     "text": [
      "[1 2 3 4 5]\n",
      "[1 2 3 4 5]\n"
     ]
    }
   ],
   "source": [
    "print(list_to_array)\n",
    "print(tuple_to_array)"
   ]
  },
  {
   "cell_type": "code",
   "execution_count": 6,
   "metadata": {},
   "outputs": [
    {
     "data": {
      "text/plain": [
       "dtype('float64')"
      ]
     },
     "execution_count": 6,
     "metadata": {},
     "output_type": "execute_result"
    }
   ],
   "source": [
    "list_to_array = np.array([1,2,3,4,5], dtype=float)\n",
    "list_to_array.dtype"
   ]
  },
  {
   "cell_type": "code",
   "execution_count": 7,
   "metadata": {},
   "outputs": [
    {
     "data": {
      "text/plain": [
       "array([1., 2., 3., 4., 5.])"
      ]
     },
     "execution_count": 7,
     "metadata": {},
     "output_type": "execute_result"
    }
   ],
   "source": [
    "int_array = np.array([1,2,3,4,5])\n",
    "float_array = np.array(int_array, dtype=float) \n",
    "float_array"
   ]
  },
  {
   "cell_type": "code",
   "execution_count": 9,
   "metadata": {},
   "outputs": [
    {
     "name": "stdout",
     "output_type": "stream",
     "text": [
      "[[1 2 3]\n",
      " [4 5 6]]\n",
      "(2, 3)\n",
      "2\n",
      "6\n"
     ]
    }
   ],
   "source": [
    "mul_array = np.array([[1,2,3],[4,5,6]])\n",
    "print(mul_array)\n",
    "\n",
    "print(mul_array.shape)\n",
    "print(mul_array.ndim)\n",
    "print(mul_array.size)"
   ]
  },
  {
   "cell_type": "code",
   "execution_count": 12,
   "metadata": {},
   "outputs": [
    {
     "name": "stdout",
     "output_type": "stream",
     "text": [
      "[1 2 3 4 5 6]\n",
      "[[1 2 3]\n",
      " [4 5 6]]\n",
      "[0 2 3 4 5 6]\n",
      "[[0 2 3]\n",
      " [4 5 6]]\n",
      "[0 2 3 4 5 6]\n"
     ]
    }
   ],
   "source": [
    "mydata = [1,2,3,4,5,6] \n",
    "a1 = np.array(mydata)\n",
    "\n",
    "a2 = a1.reshape(2,3)\n",
    "print(a1)\n",
    "print(a2)\n",
    "\n",
    "a2[0,0]=0\n",
    "print(a1)\n",
    "print(a2)\n",
    "\n",
    "print(a2.ravel())"
   ]
  },
  {
   "cell_type": "code",
   "execution_count": 14,
   "metadata": {},
   "outputs": [
    {
     "data": {
      "text/plain": [
       "array([[1, 2, 3],\n",
       "       [4, 5, 6],\n",
       "       [7, 8, 9]])"
      ]
     },
     "execution_count": 14,
     "metadata": {},
     "output_type": "execute_result"
    }
   ],
   "source": [
    "mylist=[1,2,3,4,5,6,7,8,9]\n",
    "a1 = np.array(mylist)\n",
    "a3 = a1.reshape(3,3)\n",
    "a3"
   ]
  },
  {
   "cell_type": "code",
   "execution_count": 17,
   "metadata": {},
   "outputs": [
    {
     "name": "stdout",
     "output_type": "stream",
     "text": [
      "[0 0 0 0 0]\n",
      "[[0 0 0]\n",
      " [0 0 0]\n",
      " [0 0 0]]\n"
     ]
    }
   ],
   "source": [
    "zero_array1=np.zeros(5, dtype=int)\n",
    "print(zero_array1)\n",
    "\n",
    "zero_array2=np.zeros((3,3), dtype=int)\n",
    "print(zero_array2)"
   ]
  },
  {
   "cell_type": "code",
   "execution_count": 18,
   "metadata": {},
   "outputs": [
    {
     "name": "stdout",
     "output_type": "stream",
     "text": [
      "[[1 1]\n",
      " [1 1]]\n"
     ]
    }
   ],
   "source": [
    "one_array=np.ones((2,2), dtype=int)\n",
    "print(one_array)"
   ]
  },
  {
   "cell_type": "code",
   "execution_count": 20,
   "metadata": {},
   "outputs": [
    {
     "name": "stdout",
     "output_type": "stream",
     "text": [
      "[0 1 2 3 4]\n",
      "[0.  0.1 0.2 0.3 0.4 0.5 0.6 0.7 0.8 0.9]\n",
      "[[0 1]\n",
      " [2 3]]\n"
     ]
    }
   ],
   "source": [
    "a1=np.arange(5)\n",
    "print(a1)\n",
    "\n",
    "a2=np.arange(0,1,0.1)\n",
    "print(a2)\n",
    "\n",
    "a3=np.arange(2*2).reshape(2,2)\n",
    "print(a3)"
   ]
  },
  {
   "cell_type": "code",
   "execution_count": 21,
   "metadata": {},
   "outputs": [
    {
     "data": {
      "text/plain": [
       "array([  0.,  10.,  20.,  30.,  40.,  50.,  60.,  70.,  80.,  90., 100.])"
      ]
     },
     "execution_count": 21,
     "metadata": {},
     "output_type": "execute_result"
    }
   ],
   "source": [
    "a=np.linspace(0,100,11)\n",
    "a"
   ]
  },
  {
   "cell_type": "code",
   "execution_count": 22,
   "metadata": {},
   "outputs": [
    {
     "name": "stdout",
     "output_type": "stream",
     "text": [
      "[0.5063608  0.20771732 0.37342474 0.41173778 0.17860955]\n"
     ]
    }
   ],
   "source": [
    "rand_array=np.random.rand(5)\n",
    "print(rand_array)"
   ]
  },
  {
   "cell_type": "code",
   "execution_count": 26,
   "metadata": {},
   "outputs": [
    {
     "name": "stdout",
     "output_type": "stream",
     "text": [
      "[0.11736083 0.36991292 0.64558364 0.91063053 0.70428514 0.89594778\n",
      " 0.09410745 0.91509554 0.2884914  0.19520868]\n"
     ]
    }
   ],
   "source": [
    "# 平均mu,分散sigmaの正規分布に従う値の要素からなる多次元配列\n",
    "mu, sigma = 0, 1 \n",
    "rand_normal_array = sigma * np.random.rand(10) + mu\n",
    "print(rand_normal_array)"
   ]
  },
  {
   "cell_type": "code",
   "execution_count": 27,
   "metadata": {},
   "outputs": [
    {
     "name": "stdout",
     "output_type": "stream",
     "text": [
      "[0.26587867 0.67822852 0.88058623 0.3956528  0.69744445 0.94673181\n",
      " 0.04719316 0.38853785 0.95045574]\n",
      "[[0.26587867 0.67822852 0.88058623]\n",
      " [0.3956528  0.69744445 0.94673181]\n",
      " [0.04719316 0.38853785 0.95045574]]\n"
     ]
    }
   ],
   "source": [
    "# 9つのランダムな値の要素から3行3列の多次元配列を作成してください。\n",
    "rand9_array = np.random.rand(9)\n",
    "print(rand9_array)\n",
    "rand3 = rand9_array.reshape(3,3)\n",
    "print(rand3)"
   ]
  },
  {
   "cell_type": "code",
   "execution_count": 28,
   "metadata": {},
   "outputs": [
    {
     "data": {
      "text/plain": [
       "array([[  1.,  30.,  43.,  51.,  63.],\n",
       "       [  2.,  39.,  21.,  49.,  56.],\n",
       "       [  3.,  29.,  30.,  23.,  57.],\n",
       "       [  4.,  95.,  87.,  77., 100.],\n",
       "       [  5.,  70.,  71.,  78.,  67.]])"
      ]
     },
     "execution_count": 28,
     "metadata": {},
     "output_type": "execute_result"
    }
   ],
   "source": [
    "score = np.loadtxt(\"simple_score.csv\", delimiter=\",\", skiprows=1) \n",
    "score"
   ]
  },
  {
   "cell_type": "code",
   "execution_count": 31,
   "metadata": {},
   "outputs": [
    {
     "name": "stdout",
     "output_type": "stream",
     "text": [
      "1\n",
      "2\n",
      "3\n",
      "4\n",
      "5\n",
      "6\n",
      "0 [1 2 3]\n",
      "1 [4 5 6]\n",
      "(0, 0) 1\n",
      "(0, 1) 2\n",
      "(0, 2) 3\n",
      "(1, 0) 4\n",
      "(1, 1) 5\n",
      "(1, 2) 6\n"
     ]
    }
   ],
   "source": [
    "a1 = np.array([1,2,3,4,5,6])\n",
    "for num in a1:\n",
    "    print(num)\n",
    "\n",
    "a2 = np.array([1,2,3,4,5,6]).reshape(2,3)\n",
    "for i, num in enumerate(a2):\n",
    "    print(i, num)\n",
    "for i, num in np.ndenumerate(a2):\n",
    "    print(i, num)"
   ]
  },
  {
   "cell_type": "code",
   "execution_count": 34,
   "metadata": {},
   "outputs": [
    {
     "name": "stdout",
     "output_type": "stream",
     "text": [
      "[1 2 3 4 5]\n",
      "[5 3 1 4 2]\n",
      "[1 2 3 4 5]\n"
     ]
    }
   ],
   "source": [
    "a1 = np.array([5,3,1,4,2])\n",
    "a1.sort()\n",
    "print(a1)\n",
    "\n",
    "a2 = np.array([5,3,1,4,2])\n",
    "a3 = np.sort(a2)\n",
    "\n",
    "print(a2)\n",
    "print(a3)"
   ]
  },
  {
   "cell_type": "code",
   "execution_count": 38,
   "metadata": {},
   "outputs": [
    {
     "name": "stdout",
     "output_type": "stream",
     "text": [
      "[ 1  2 -3  0  5  0 -7]\n"
     ]
    }
   ],
   "source": [
    "a1 = np.array([1,2,-3,-4,5,-6,-7])\n",
    "\n",
    "a1[(a1<0) & (a1%2==0)]=0\n",
    "print(a1)"
   ]
  },
  {
   "cell_type": "code",
   "execution_count": 39,
   "metadata": {},
   "outputs": [
    {
     "name": "stdout",
     "output_type": "stream",
     "text": [
      "[2 3 4 5 6]\n",
      "[ 4  6  8 10 12]\n",
      "[2. 3. 4. 5. 6.]\n"
     ]
    }
   ],
   "source": [
    "a = np.array([1,2,3,4, 5])\n",
    "\n",
    "b = a + 1\n",
    "print(b)\n",
    "\n",
    "c = b * 2\n",
    "print(c)\n",
    "\n",
    "d = c / 2\n",
    "print(d)"
   ]
  },
  {
   "cell_type": "code",
   "execution_count": 46,
   "metadata": {},
   "outputs": [
    {
     "name": "stdout",
     "output_type": "stream",
     "text": [
      "[[ 30.  43.  51.  63.]\n",
      " [ 39.  21.  49.  56.]\n",
      " [ 29.  30.  23.  57.]\n",
      " [ 95.  87.  77. 100.]\n",
      " [ 70.  71.  78.  67.]]\n",
      "56.8\n",
      "[52.6 50.4 55.6 68.6]\n",
      "[46.75 41.25 34.75 89.75 71.5 ]\n",
      "100.0\n",
      "21.0\n"
     ]
    }
   ],
   "source": [
    "score = np.loadtxt(\"simple_score.csv\", delimiter=\",\", skiprows=1)\n",
    "score = score[:, 1:]\n",
    "print(score)\n",
    "\n",
    "print(score.mean())\n",
    "print(score.mean(0))\n",
    "print(score.mean(1))\n",
    "\n",
    "print(score.max())\n",
    "print(score.min())"
   ]
  },
  {
   "cell_type": "code",
   "execution_count": 3,
   "metadata": {},
   "outputs": [
    {
     "name": "stdout",
     "output_type": "stream",
     "text": [
      "[[ 3  6]\n",
      " [ 9 12]]\n",
      "[[1 2]\n",
      " [3 4]]\n",
      "[[ 2  8]\n",
      " [18 32]]\n",
      "[[2 2]\n",
      " [2 2]]\n"
     ]
    }
   ],
   "source": [
    "import numpy as np\n",
    "A = np.array([1,2,3,4]).reshape(2,2) \n",
    "B = np.array([2,4,6,8]).reshape(2,2)\n",
    "# 配列の要素同士の足し算 \n",
    "C = A+B\n",
    "print(C)\n",
    "# 配列の要素同士の引き算 \n",
    "D = B-A\n",
    "print(D)\n",
    "# 配列の要素同士の掛け算 \n",
    "E = A*B\n",
    "print(E)\n",
    "# 配列の要素同士の割り算 \n",
    "F = B//A\n",
    "print(F)"
   ]
  },
  {
   "cell_type": "code",
   "execution_count": 8,
   "metadata": {},
   "outputs": [
    {
     "name": "stdout",
     "output_type": "stream",
     "text": [
      "[[ 30.  43.  51.  63.]\n",
      " [ 39.  21.  49.  56.]\n",
      " [ 29.  30.  23.  57.]\n",
      " [ 95.  87.  77. 100.]\n",
      " [ 70.  71.  78.  67.]]\n",
      "[[  900.  1849.  2601.  3969.]\n",
      " [ 1521.   441.  2401.  3136.]\n",
      " [  841.   900.   529.  3249.]\n",
      " [ 9025.  7569.  5929. 10000.]\n",
      " [ 4900.  5041.  6084.  4489.]]\n"
     ]
    }
   ],
   "source": [
    "# csvファイル、simple_score.csv、から配列を作成し、得点の各要素の値を2乗にしてくださ い。\n",
    "score = np.loadtxt(\"simple_score.csv\", delimiter=\",\", skiprows=1)\n",
    "score = score[:, 1:]\n",
    "print(score)\n",
    "score2 = np.power(score, 2)\n",
    "print(score2)"
   ]
  },
  {
   "cell_type": "code",
   "execution_count": 9,
   "metadata": {},
   "outputs": [
    {
     "name": "stdout",
     "output_type": "stream",
     "text": [
      "[[3 6]\n",
      " [5 8]]\n"
     ]
    }
   ],
   "source": [
    "A = np.array([1,2,3,4]).reshape(2,2) \n",
    "B = np.array([2,4])\n",
    "# 行列Bをブロードキャストして行列Aと足し算 \n",
    "C = A+B\n",
    "print(C)"
   ]
  },
  {
   "cell_type": "code",
   "execution_count": 14,
   "metadata": {},
   "outputs": [
    {
     "name": "stdout",
     "output_type": "stream",
     "text": [
      "[[1 2]\n",
      " [3 4]]\n",
      "[[2 4]\n",
      " [6 8]]\n",
      "[[14 20]\n",
      " [30 44]]\n"
     ]
    }
   ],
   "source": [
    "A = np.array([1,2,3,4]).reshape(2,2) \n",
    "B = np.array([2,4,6,8]).reshape(2,2)\n",
    "print(A)\n",
    "print(B)\n",
    "# 行列積\n",
    "C = np.dot(A,B) \n",
    "print(C)"
   ]
  },
  {
   "cell_type": "code",
   "execution_count": 15,
   "metadata": {},
   "outputs": [
    {
     "name": "stdout",
     "output_type": "stream",
     "text": [
      "[[1 0 0]\n",
      " [0 1 0]\n",
      " [0 0 1]]\n"
     ]
    }
   ],
   "source": [
    "# 3行3列の単位行列 \n",
    "E=np.identity(3, dtype=int)\n",
    "print(E)"
   ]
  },
  {
   "cell_type": "code",
   "execution_count": 16,
   "metadata": {},
   "outputs": [
    {
     "name": "stdout",
     "output_type": "stream",
     "text": [
      "[[1 4]\n",
      " [2 5]\n",
      " [3 6]]\n",
      "[[1 4]\n",
      " [2 5]\n",
      " [3 6]]\n",
      "[[1 2 3]\n",
      " [4 5 6]]\n"
     ]
    }
   ],
   "source": [
    "A = np.array([1,2,3,4,5,6]).reshape(2,3)\n",
    "# 配列の行と列の入れ替え \n",
    "print(np.transpose(A)) \n",
    "print(A.T)\n",
    "print(A)"
   ]
  },
  {
   "cell_type": "code",
   "execution_count": 18,
   "metadata": {},
   "outputs": [
    {
     "name": "stdout",
     "output_type": "stream",
     "text": [
      "[1 2]\n",
      "[1 2 3]\n",
      "[1 2 3 4 5]\n"
     ]
    }
   ],
   "source": [
    "a1 = np.array([1,2])\n",
    "# 配列a1に値3を要素として追加\n",
    "a2 = np.append(a1, 3)\n",
    "# 配列a2に値4,5を要素として追加\n",
    "a3 = np.append(a2,[4,5])\n",
    "print(a1)\n",
    "print(a2)\n",
    "print(a3)"
   ]
  },
  {
   "cell_type": "code",
   "execution_count": 19,
   "metadata": {},
   "outputs": [
    {
     "name": "stdout",
     "output_type": "stream",
     "text": [
      "[[1 2 3]\n",
      " [4 5 6]]\n",
      "[[1 2 3]\n",
      " [4 5 6]\n",
      " [7 8 9]]\n",
      "[[1 2 3 0]\n",
      " [4 5 6 0]\n",
      " [7 8 9 0]]\n"
     ]
    }
   ],
   "source": [
    "mul_array1 = np.array([[1,2,3],[4,5,6]]) # 多次元配列mul_array1に行[7,8,9]を追加\n",
    "mul_array2 = np.append(mul_array1, [[7,8,9]], axis =0) # 多次元配列mul_array2に列[0,0,0]を追加\n",
    "mul_array3 = np.append(mul_array2, np.array([[0,0,0]]).T, axis =1)\n",
    "print(mul_array1) \n",
    "print(mul_array2) \n",
    "print(mul_array3)"
   ]
  },
  {
   "cell_type": "code",
   "execution_count": 20,
   "metadata": {},
   "outputs": [
    {
     "name": "stdout",
     "output_type": "stream",
     "text": [
      "[1 3]\n",
      "[1 2 3]\n",
      "[1 2 3 4 5]\n"
     ]
    }
   ],
   "source": [
    "a1 = np.array([1,3])\n",
    "# 配列a1のインデックス1に値2を要素として追加\n",
    "a2 = np.insert(a1, 1, 2)\n",
    "# 配列a2のインデックス3に値4,5を要素として追加\n",
    "a3 = np.insert(a2, 3, [4,5])\n",
    "print(a1)\n",
    "print(a2)\n",
    "print(a3)"
   ]
  },
  {
   "cell_type": "code",
   "execution_count": 21,
   "metadata": {},
   "outputs": [
    {
     "name": "stdout",
     "output_type": "stream",
     "text": [
      "[[1 2 3]\n",
      " [7 8 9]]\n",
      "[[1 2 3]\n",
      " [4 5 6]\n",
      " [7 8 9]]\n"
     ]
    }
   ],
   "source": [
    "mul_array1 = np.array([[1,2,3],[7,8,9]]) # 多次元配列mul_array1に行[4,5,6]を追加\n",
    "mul_array2 = np.insert(mul_array1, 1, [[4,5,6]], axis =0) \n",
    "print(mul_array1)\n",
    "print(mul_array2)"
   ]
  },
  {
   "cell_type": "code",
   "execution_count": 22,
   "metadata": {},
   "outputs": [
    {
     "name": "stdout",
     "output_type": "stream",
     "text": [
      "[0 1 2]\n",
      "[0 1]\n"
     ]
    }
   ],
   "source": [
    "a1 = np.array([0,1,2])\n",
    "# 配列a1のインデックス2の要素を削除\n",
    "a2 = np.delete(a1,2)\n",
    "print(a1)\n",
    "print(a2)"
   ]
  },
  {
   "cell_type": "code",
   "execution_count": null,
   "metadata": {},
   "outputs": [],
   "source": []
  }
 ],
 "metadata": {
  "kernelspec": {
   "display_name": "Python 3",
   "language": "python",
   "name": "python3"
  },
  "language_info": {
   "codemirror_mode": {
    "name": "ipython",
    "version": 3
   },
   "file_extension": ".py",
   "mimetype": "text/x-python",
   "name": "python",
   "nbconvert_exporter": "python",
   "pygments_lexer": "ipython3",
   "version": "3.7.3"
  }
 },
 "nbformat": 4,
 "nbformat_minor": 2
}
