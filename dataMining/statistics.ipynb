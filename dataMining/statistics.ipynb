{
 "cells": [
  {
   "cell_type": "code",
   "execution_count": 9,
   "metadata": {},
   "outputs": [
    {
     "name": "stdout",
     "output_type": "stream",
     "text": [
      "(5.5, 5.5, 8.25)\n",
      "(6, 6, 10)\n"
     ]
    }
   ],
   "source": [
    "import statistics\n",
    "\n",
    "\n",
    "def avg_med_var(input_list):\n",
    "    mean = statistics.mean(input_list)\n",
    "    median = statistics.median(input_list)\n",
    "    variance = statistics.pvariance(input_list)\n",
    "    return mean, median, variance\n",
    "\n",
    "\n",
    "print(avg_med_var([1,4,3,2,5,6,8,7,9,10]))\n",
    "print(avg_med_var([1,4,3,2,5,6,8,7,9,10, 11]))\n",
    "    "
   ]
  },
  {
   "cell_type": "code",
   "execution_count": 8,
   "metadata": {},
   "outputs": [
    {
     "name": "stdout",
     "output_type": "stream",
     "text": [
      "82.5\n"
     ]
    }
   ],
   "source": [
    "input_list = [1,4,3,2,5,6,8,7,9,10]\n",
    "sum = 0\n",
    "for v in input_list:\n",
    "    sum += (v - 5.5) ** 2\n",
    "print(sum)"
   ]
  },
  {
   "cell_type": "code",
   "execution_count": null,
   "metadata": {},
   "outputs": [],
   "source": []
  }
 ],
 "metadata": {
  "kernelspec": {
   "display_name": "Python 3",
   "language": "python",
   "name": "python3"
  },
  "language_info": {
   "codemirror_mode": {
    "name": "ipython",
    "version": 3
   },
   "file_extension": ".py",
   "mimetype": "text/x-python",
   "name": "python",
   "nbconvert_exporter": "python",
   "pygments_lexer": "ipython3",
   "version": "3.7.3"
  }
 },
 "nbformat": 4,
 "nbformat_minor": 2
}
