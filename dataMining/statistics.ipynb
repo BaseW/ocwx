{
 "cells": [
  {
   "cell_type": "code",
   "execution_count": 36,
   "metadata": {},
   "outputs": [
    {
     "name": "stdout",
     "output_type": "stream",
     "text": [
      "(5.5, 5.5, 8.25)\n",
      "(6, 6, 10)\n"
     ]
    }
   ],
   "source": [
    "import statistics\n",
    "\n",
    "\n",
    "def avg_med_var(input_list):\n",
    "    mean = statistics.mean(input_list)\n",
    "    median = statistics.median(input_list)\n",
    "    variance = statistics.pvariance(input_list)\n",
    "    return mean, median, variance\n",
    "\n",
    "\n",
    "print(avg_med_var([1,4,3,2,5,6,8,7,9,10]))\n",
    "print(avg_med_var([1,4,3,2,5,6,8,7,9,10, 11]))\n",
    "    "
   ]
  },
  {
   "cell_type": "code",
   "execution_count": 37,
   "metadata": {},
   "outputs": [
    {
     "name": "stdout",
     "output_type": "stream",
     "text": [
      "82.5\n"
     ]
    }
   ],
   "source": [
    "input_list = [1,4,3,2,5,6,8,7,9,10]\n",
    "sum = 0\n",
    "for v in input_list:\n",
    "    sum += (v - 5.5) ** 2\n",
    "print(sum)"
   ]
  },
  {
   "cell_type": "code",
   "execution_count": 38,
   "metadata": {},
   "outputs": [
    {
     "data": {
      "text/html": [
       "<div>\n",
       "<style scoped>\n",
       "    .dataframe tbody tr th:only-of-type {\n",
       "        vertical-align: middle;\n",
       "    }\n",
       "\n",
       "    .dataframe tbody tr th {\n",
       "        vertical-align: top;\n",
       "    }\n",
       "\n",
       "    .dataframe thead th {\n",
       "        text-align: right;\n",
       "    }\n",
       "</style>\n",
       "<table border=\"1\" class=\"dataframe\">\n",
       "  <thead>\n",
       "    <tr style=\"text-align: right;\">\n",
       "      <th></th>\n",
       "      <th>Unnamed: 0</th>\n",
       "      <th>user</th>\n",
       "      <th>kokugo</th>\n",
       "      <th>shakai</th>\n",
       "      <th>sugaku</th>\n",
       "      <th>rika</th>\n",
       "    </tr>\n",
       "  </thead>\n",
       "  <tbody>\n",
       "    <tr>\n",
       "      <th>0</th>\n",
       "      <td>0</td>\n",
       "      <td>0</td>\n",
       "      <td>24</td>\n",
       "      <td>24</td>\n",
       "      <td>3</td>\n",
       "      <td>93</td>\n",
       "    </tr>\n",
       "    <tr>\n",
       "      <th>1</th>\n",
       "      <td>1</td>\n",
       "      <td>1</td>\n",
       "      <td>42</td>\n",
       "      <td>17</td>\n",
       "      <td>65</td>\n",
       "      <td>8</td>\n",
       "    </tr>\n",
       "    <tr>\n",
       "      <th>2</th>\n",
       "      <td>2</td>\n",
       "      <td>2</td>\n",
       "      <td>39</td>\n",
       "      <td>65</td>\n",
       "      <td>45</td>\n",
       "      <td>83</td>\n",
       "    </tr>\n",
       "    <tr>\n",
       "      <th>3</th>\n",
       "      <td>3</td>\n",
       "      <td>3</td>\n",
       "      <td>99</td>\n",
       "      <td>35</td>\n",
       "      <td>79</td>\n",
       "      <td>11</td>\n",
       "    </tr>\n",
       "    <tr>\n",
       "      <th>4</th>\n",
       "      <td>4</td>\n",
       "      <td>4</td>\n",
       "      <td>37</td>\n",
       "      <td>55</td>\n",
       "      <td>36</td>\n",
       "      <td>20</td>\n",
       "    </tr>\n",
       "  </tbody>\n",
       "</table>\n",
       "</div>"
      ],
      "text/plain": [
       "   Unnamed: 0  user  kokugo  shakai  sugaku  rika\n",
       "0           0     0      24      24       3    93\n",
       "1           1     1      42      17      65     8\n",
       "2           2     2      39      65      45    83\n",
       "3           3     3      99      35      79    11\n",
       "4           4     4      37      55      36    20"
      ]
     },
     "execution_count": 38,
     "metadata": {},
     "output_type": "execute_result"
    }
   ],
   "source": [
    "import pandas as pd\n",
    "score = pd.read_csv('user_score.csv')\n",
    "score.head(5)"
   ]
  },
  {
   "cell_type": "code",
   "execution_count": 39,
   "metadata": {
    "scrolled": true
   },
   "outputs": [
    {
     "data": {
      "text/html": [
       "<div>\n",
       "<style scoped>\n",
       "    .dataframe tbody tr th:only-of-type {\n",
       "        vertical-align: middle;\n",
       "    }\n",
       "\n",
       "    .dataframe tbody tr th {\n",
       "        vertical-align: top;\n",
       "    }\n",
       "\n",
       "    .dataframe thead th {\n",
       "        text-align: right;\n",
       "    }\n",
       "</style>\n",
       "<table border=\"1\" class=\"dataframe\">\n",
       "  <thead>\n",
       "    <tr style=\"text-align: right;\">\n",
       "      <th></th>\n",
       "      <th>Unnamed: 0</th>\n",
       "      <th>user</th>\n",
       "      <th>kokugo</th>\n",
       "      <th>shakai</th>\n",
       "      <th>sugaku</th>\n",
       "      <th>rika</th>\n",
       "    </tr>\n",
       "  </thead>\n",
       "  <tbody>\n",
       "    <tr>\n",
       "      <th>count</th>\n",
       "      <td>167.00000</td>\n",
       "      <td>167.00000</td>\n",
       "      <td>167.000000</td>\n",
       "      <td>167.000000</td>\n",
       "      <td>167.000000</td>\n",
       "      <td>167.000000</td>\n",
       "    </tr>\n",
       "    <tr>\n",
       "      <th>mean</th>\n",
       "      <td>83.00000</td>\n",
       "      <td>83.00000</td>\n",
       "      <td>46.437126</td>\n",
       "      <td>49.425150</td>\n",
       "      <td>50.149701</td>\n",
       "      <td>48.814371</td>\n",
       "    </tr>\n",
       "    <tr>\n",
       "      <th>std</th>\n",
       "      <td>48.35287</td>\n",
       "      <td>48.35287</td>\n",
       "      <td>29.310458</td>\n",
       "      <td>29.163314</td>\n",
       "      <td>27.935517</td>\n",
       "      <td>30.091351</td>\n",
       "    </tr>\n",
       "    <tr>\n",
       "      <th>min</th>\n",
       "      <td>0.00000</td>\n",
       "      <td>0.00000</td>\n",
       "      <td>0.000000</td>\n",
       "      <td>0.000000</td>\n",
       "      <td>0.000000</td>\n",
       "      <td>0.000000</td>\n",
       "    </tr>\n",
       "    <tr>\n",
       "      <th>25%</th>\n",
       "      <td>41.50000</td>\n",
       "      <td>41.50000</td>\n",
       "      <td>21.500000</td>\n",
       "      <td>25.000000</td>\n",
       "      <td>30.500000</td>\n",
       "      <td>23.000000</td>\n",
       "    </tr>\n",
       "    <tr>\n",
       "      <th>50%</th>\n",
       "      <td>83.00000</td>\n",
       "      <td>83.00000</td>\n",
       "      <td>44.000000</td>\n",
       "      <td>50.000000</td>\n",
       "      <td>48.000000</td>\n",
       "      <td>46.000000</td>\n",
       "    </tr>\n",
       "    <tr>\n",
       "      <th>75%</th>\n",
       "      <td>124.50000</td>\n",
       "      <td>124.50000</td>\n",
       "      <td>70.500000</td>\n",
       "      <td>74.500000</td>\n",
       "      <td>74.500000</td>\n",
       "      <td>78.000000</td>\n",
       "    </tr>\n",
       "    <tr>\n",
       "      <th>max</th>\n",
       "      <td>166.00000</td>\n",
       "      <td>166.00000</td>\n",
       "      <td>99.000000</td>\n",
       "      <td>99.000000</td>\n",
       "      <td>99.000000</td>\n",
       "      <td>99.000000</td>\n",
       "    </tr>\n",
       "  </tbody>\n",
       "</table>\n",
       "</div>"
      ],
      "text/plain": [
       "       Unnamed: 0       user      kokugo      shakai      sugaku        rika\n",
       "count   167.00000  167.00000  167.000000  167.000000  167.000000  167.000000\n",
       "mean     83.00000   83.00000   46.437126   49.425150   50.149701   48.814371\n",
       "std      48.35287   48.35287   29.310458   29.163314   27.935517   30.091351\n",
       "min       0.00000    0.00000    0.000000    0.000000    0.000000    0.000000\n",
       "25%      41.50000   41.50000   21.500000   25.000000   30.500000   23.000000\n",
       "50%      83.00000   83.00000   44.000000   50.000000   48.000000   46.000000\n",
       "75%     124.50000  124.50000   70.500000   74.500000   74.500000   78.000000\n",
       "max     166.00000  166.00000   99.000000   99.000000   99.000000   99.000000"
      ]
     },
     "execution_count": 39,
     "metadata": {},
     "output_type": "execute_result"
    }
   ],
   "source": [
    "score.describe()"
   ]
  },
  {
   "cell_type": "code",
   "execution_count": 40,
   "metadata": {},
   "outputs": [
    {
     "data": {
      "text/plain": [
       "46.43712574850299"
      ]
     },
     "execution_count": 40,
     "metadata": {},
     "output_type": "execute_result"
    }
   ],
   "source": [
    "# kokugo = score['kokugo'].tolist()\n",
    "kokugo = score.iloc[:, 2].tolist()\n",
    "mean_kokugo = statistics.mean(kokugo)\n",
    "mean_kokugo"
   ]
  },
  {
   "cell_type": "code",
   "execution_count": 41,
   "metadata": {},
   "outputs": [
    {
     "data": {
      "text/html": [
       "<div>\n",
       "<style scoped>\n",
       "    .dataframe tbody tr th:only-of-type {\n",
       "        vertical-align: middle;\n",
       "    }\n",
       "\n",
       "    .dataframe tbody tr th {\n",
       "        vertical-align: top;\n",
       "    }\n",
       "\n",
       "    .dataframe thead th {\n",
       "        text-align: right;\n",
       "    }\n",
       "</style>\n",
       "<table border=\"1\" class=\"dataframe\">\n",
       "  <thead>\n",
       "    <tr style=\"text-align: right;\">\n",
       "      <th></th>\n",
       "      <th></th>\n",
       "      <th>user</th>\n",
       "      <th>kokugo</th>\n",
       "      <th>shakai</th>\n",
       "      <th>sugaku</th>\n",
       "      <th>rika</th>\n",
       "    </tr>\n",
       "  </thead>\n",
       "  <tbody>\n",
       "    <tr>\n",
       "      <th>11</th>\n",
       "      <td>11</td>\n",
       "      <td>11</td>\n",
       "      <td>92</td>\n",
       "      <td>58</td>\n",
       "      <td>58</td>\n",
       "      <td>49</td>\n",
       "    </tr>\n",
       "    <tr>\n",
       "      <th>14</th>\n",
       "      <td>14</td>\n",
       "      <td>14</td>\n",
       "      <td>53</td>\n",
       "      <td>62</td>\n",
       "      <td>76</td>\n",
       "      <td>89</td>\n",
       "    </tr>\n",
       "    <tr>\n",
       "      <th>18</th>\n",
       "      <td>18</td>\n",
       "      <td>18</td>\n",
       "      <td>75</td>\n",
       "      <td>79</td>\n",
       "      <td>87</td>\n",
       "      <td>68</td>\n",
       "    </tr>\n",
       "    <tr>\n",
       "      <th>50</th>\n",
       "      <td>50</td>\n",
       "      <td>50</td>\n",
       "      <td>59</td>\n",
       "      <td>83</td>\n",
       "      <td>97</td>\n",
       "      <td>56</td>\n",
       "    </tr>\n",
       "    <tr>\n",
       "      <th>54</th>\n",
       "      <td>54</td>\n",
       "      <td>54</td>\n",
       "      <td>86</td>\n",
       "      <td>80</td>\n",
       "      <td>79</td>\n",
       "      <td>77</td>\n",
       "    </tr>\n",
       "    <tr>\n",
       "      <th>76</th>\n",
       "      <td>76</td>\n",
       "      <td>76</td>\n",
       "      <td>89</td>\n",
       "      <td>80</td>\n",
       "      <td>82</td>\n",
       "      <td>70</td>\n",
       "    </tr>\n",
       "    <tr>\n",
       "      <th>114</th>\n",
       "      <td>114</td>\n",
       "      <td>114</td>\n",
       "      <td>73</td>\n",
       "      <td>98</td>\n",
       "      <td>59</td>\n",
       "      <td>86</td>\n",
       "    </tr>\n",
       "    <tr>\n",
       "      <th>116</th>\n",
       "      <td>116</td>\n",
       "      <td>116</td>\n",
       "      <td>96</td>\n",
       "      <td>97</td>\n",
       "      <td>73</td>\n",
       "      <td>62</td>\n",
       "    </tr>\n",
       "    <tr>\n",
       "      <th>119</th>\n",
       "      <td>119</td>\n",
       "      <td>119</td>\n",
       "      <td>97</td>\n",
       "      <td>96</td>\n",
       "      <td>62</td>\n",
       "      <td>92</td>\n",
       "    </tr>\n",
       "    <tr>\n",
       "      <th>128</th>\n",
       "      <td>128</td>\n",
       "      <td>128</td>\n",
       "      <td>64</td>\n",
       "      <td>86</td>\n",
       "      <td>94</td>\n",
       "      <td>78</td>\n",
       "    </tr>\n",
       "    <tr>\n",
       "      <th>141</th>\n",
       "      <td>141</td>\n",
       "      <td>141</td>\n",
       "      <td>84</td>\n",
       "      <td>96</td>\n",
       "      <td>92</td>\n",
       "      <td>55</td>\n",
       "    </tr>\n",
       "    <tr>\n",
       "      <th>148</th>\n",
       "      <td>148</td>\n",
       "      <td>148</td>\n",
       "      <td>78</td>\n",
       "      <td>67</td>\n",
       "      <td>53</td>\n",
       "      <td>61</td>\n",
       "    </tr>\n",
       "    <tr>\n",
       "      <th>150</th>\n",
       "      <td>150</td>\n",
       "      <td>150</td>\n",
       "      <td>58</td>\n",
       "      <td>63</td>\n",
       "      <td>60</td>\n",
       "      <td>94</td>\n",
       "    </tr>\n",
       "  </tbody>\n",
       "</table>\n",
       "</div>"
      ],
      "text/plain": [
       "          user  kokugo  shakai  sugaku  rika\n",
       "11    11    11      92      58      58    49\n",
       "14    14    14      53      62      76    89\n",
       "18    18    18      75      79      87    68\n",
       "50    50    50      59      83      97    56\n",
       "54    54    54      86      80      79    77\n",
       "76    76    76      89      80      82    70\n",
       "114  114   114      73      98      59    86\n",
       "116  116   116      96      97      73    62\n",
       "119  119   119      97      96      62    92\n",
       "128  128   128      64      86      94    78\n",
       "141  141   141      84      96      92    55\n",
       "148  148   148      78      67      53    61\n",
       "150  150   150      58      63      60    94"
      ]
     },
     "execution_count": 41,
     "metadata": {},
     "output_type": "execute_result"
    }
   ],
   "source": [
    "def above_mean(df):\n",
    "    user_count = 0\n",
    "    mean_kokugo = statistics.mean(score.iloc[:, 2].tolist())\n",
    "    mean_shakai = statistics.mean(score.iloc[:, 3].tolist())\n",
    "    mean_sugaku = statistics.mean(score.iloc[:, 4].tolist())\n",
    "    mean_rika = statistics.mean(score.iloc[:, 5].tolist())\n",
    "    condition_kokugo = df['kokugo'] > mean_kokugo\n",
    "    condition_shakai = df['shakai'] > mean_shakai\n",
    "    condition_sugaku = df['sugaku'] > mean_sugaku\n",
    "    condition_rika = df['rika'] > mean_rika\n",
    "    df_condition = df[condition_kokugo & condition_shakai & condition_sugaku & condition_rika]\n",
    "    df_condition.columns = [' ', 'user', 'kokugo', 'shakai', 'sugaku', 'rika']\n",
    "    return df_condition\n",
    "\n",
    "\n",
    "above_mean(score)\n"
   ]
  },
  {
   "cell_type": "code",
   "execution_count": 70,
   "metadata": {},
   "outputs": [
    {
     "data": {
      "text/plain": [
       "119    347\n",
       "116    328\n",
       "141    327\n",
       "54     322\n",
       "128    322\n",
       "dtype: int64"
      ]
     },
     "execution_count": 70,
     "metadata": {},
     "output_type": "execute_result"
    }
   ],
   "source": [
    "def score_sum(df):\n",
    "    each_sum = score[['kokugo', 'shakai', 'sugaku', 'rika']].sum(axis=1)\n",
    "    return each_sum\n",
    "\n",
    "\n",
    "user_score = score_sum(score)\n",
    "user_score = user_score.sort_values(ascending=False)\n",
    "user_score.head(5)\n",
    "# user_score.plot.hist()\n"
   ]
  },
  {
   "cell_type": "code",
   "execution_count": 55,
   "metadata": {},
   "outputs": [
    {
     "data": {
      "text/plain": [
       "[347, 328, 327]"
      ]
     },
     "execution_count": 55,
     "metadata": {},
     "output_type": "execute_result"
    }
   ],
   "source": [
    "def score_top3(df):\n",
    "    user_score = score_sum(score)\n",
    "    user_score = user_score.sort_values(ascending=False)\n",
    "    top3_list = user_score.tolist()[:3]\n",
    "    return top3_list\n",
    "\n",
    "\n",
    "score_top3(score)\n"
   ]
  },
  {
   "cell_type": "code",
   "execution_count": 60,
   "metadata": {},
   "outputs": [
    {
     "data": {
      "image/png": "[encoded data removed]",
      "text/plain": [
       "<Figure size 432x288 with 1 Axes>"
      ]
     },
     "metadata": {
      "needs_background": "light"
     },
     "output_type": "display_data"
    }
   ],
   "source": [
    "def score_hist(df):\n",
    "    user_score = score_sum(score)\n",
    "    user_score.plot.hist(bins=7)\n",
    "\n",
    "\n",
    "score_hist(score)\n"
   ]
  },
  {
   "cell_type": "code",
   "execution_count": 61,
   "metadata": {},
   "outputs": [
    {
     "data": {
      "text/html": [
       "<div>\n",
       "<style scoped>\n",
       "    .dataframe tbody tr th:only-of-type {\n",
       "        vertical-align: middle;\n",
       "    }\n",
       "\n",
       "    .dataframe tbody tr th {\n",
       "        vertical-align: top;\n",
       "    }\n",
       "\n",
       "    .dataframe thead th {\n",
       "        text-align: right;\n",
       "    }\n",
       "</style>\n",
       "<table border=\"1\" class=\"dataframe\">\n",
       "  <thead>\n",
       "    <tr style=\"text-align: right;\">\n",
       "      <th></th>\n",
       "      <th>Unnamed: 0</th>\n",
       "      <th>user</th>\n",
       "      <th>class</th>\n",
       "    </tr>\n",
       "  </thead>\n",
       "  <tbody>\n",
       "    <tr>\n",
       "      <th>0</th>\n",
       "      <td>0</td>\n",
       "      <td>0</td>\n",
       "      <td>C</td>\n",
       "    </tr>\n",
       "    <tr>\n",
       "      <th>1</th>\n",
       "      <td>1</td>\n",
       "      <td>1</td>\n",
       "      <td>B</td>\n",
       "    </tr>\n",
       "    <tr>\n",
       "      <th>2</th>\n",
       "      <td>2</td>\n",
       "      <td>2</td>\n",
       "      <td>B</td>\n",
       "    </tr>\n",
       "    <tr>\n",
       "      <th>3</th>\n",
       "      <td>3</td>\n",
       "      <td>3</td>\n",
       "      <td>A</td>\n",
       "    </tr>\n",
       "    <tr>\n",
       "      <th>4</th>\n",
       "      <td>4</td>\n",
       "      <td>4</td>\n",
       "      <td>B</td>\n",
       "    </tr>\n",
       "  </tbody>\n",
       "</table>\n",
       "</div>"
      ],
      "text/plain": [
       "   Unnamed: 0  user class\n",
       "0           0     0     C\n",
       "1           1     1     B\n",
       "2           2     2     B\n",
       "3           3     3     A\n",
       "4           4     4     B"
      ]
     },
     "execution_count": 61,
     "metadata": {},
     "output_type": "execute_result"
    }
   ],
   "source": [
    "user_class = pd.read_csv('user_class.csv')\n",
    "user_class.head(5)"
   ]
  },
  {
   "cell_type": "code",
   "execution_count": 79,
   "metadata": {},
   "outputs": [
    {
     "data": {
      "text/plain": [
       "{'sum': {'A': 327, 'B': 328, 'C': 347}}"
      ]
     },
     "execution_count": 79,
     "metadata": {},
     "output_type": "execute_result"
    }
   ],
   "source": [
    "def score_by_class(df1, df2):\n",
    "    df = pd.merge(df1, df2, how='outer', on='user')\n",
    "    df['sum'] = df[['kokugo', 'shakai', 'sugaku', 'rika']].sum(axis=1)\n",
    "    result = df.groupby('class').agg({'sum':'max'})\n",
    "    return result\n",
    "\n",
    "score_by_class(score, user_class).to_dict()"
   ]
  },
  {
   "cell_type": "code",
   "execution_count": null,
   "metadata": {},
   "outputs": [],
   "source": []
  }
 ],
 "metadata": {
  "kernelspec": {
   "display_name": "Python 3",
   "language": "python",
   "name": "python3"
  },
  "language_info": {
   "codemirror_mode": {
    "name": "ipython",
    "version": 3
   },
   "file_extension": ".py",
   "mimetype": "text/x-python",
   "name": "python",
   "nbconvert_exporter": "python",
   "pygments_lexer": "ipython3",
   "version": "3.7.3"
  }
 },
 "nbformat": 4,
 "nbformat_minor": 2
}
